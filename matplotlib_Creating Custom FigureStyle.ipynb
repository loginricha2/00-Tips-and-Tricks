{
 "cells": [
  {
   "cell_type": "code",
   "execution_count": 1,
   "metadata": {},
   "outputs": [],
   "source": [
    "# Creating custom style for figure\n",
    "\n",
    "import matplotlib as mpl\n",
    "\n",
    "# Get the path for configdir of matplotlib\n",
    "cfgdir = mpl.get_configdir()\n",
    "\n",
    "# Create new mplstyle file\n",
    "from pathlib import Path\n",
    "p = Path(cfgdir)\n",
    "stylelib = (p / 'stylelib')\n",
    "stylelib.mkdir(exist_ok=True)\n",
    "path = stylelib / 'mycustomstyle.mplstyle'\n",
    "\n",
    "# Write on the file \n",
    "path.write_text('''\n",
    "axes.facecolor : f0f0f0\n",
    "font.family : serif\n",
    "lines.linewidth : 4\n",
    "xtick.labelsize : 14\n",
    "ytick.labelsize : 14\n",
    "legend.shadow : True\n",
    "legend.fontsize : 18\n",
    "font.size : 14\n",
    "axes.grid : True\n",
    "axes.labelsize : 16\n",
    "\n",
    "\n",
    "''')\n",
    "\n",
    "# Reload the library\n",
    "mpl.style.reload_library()"
   ]
  },
  {
   "cell_type": "code",
   "execution_count": null,
   "metadata": {},
   "outputs": [],
   "source": []
  }
 ],
 "metadata": {
  "kernelspec": {
   "display_name": "Python 3",
   "language": "python",
   "name": "python3"
  },
  "language_info": {
   "codemirror_mode": {
    "name": "ipython",
    "version": 3
   },
   "file_extension": ".py",
   "mimetype": "text/x-python",
   "name": "python",
   "nbconvert_exporter": "python",
   "pygments_lexer": "ipython3",
   "version": "3.7.3"
  }
 },
 "nbformat": 4,
 "nbformat_minor": 2
}
